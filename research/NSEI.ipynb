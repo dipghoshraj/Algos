{
 "cells": [
  {
   "cell_type": "code",
   "execution_count": 21,
   "metadata": {},
   "outputs": [],
   "source": [
    "import pandas as pd\n",
    "import numpy as np"
   ]
  },
  {
   "cell_type": "code",
   "execution_count": 22,
   "metadata": {},
   "outputs": [],
   "source": [
    "from sklearn.model_selection import train_test_split\n",
    "from sklearn import preprocessing"
   ]
  },
  {
   "cell_type": "code",
   "execution_count": 23,
   "metadata": {},
   "outputs": [],
   "source": [
    "from keras.models import Sequential\n",
    "from keras.layers import Conv1D,MaxPool1D,Bidirectional,LSTM,Dropout,TimeDistributed\n",
    "from keras.layers import Dense,GlobalAveragePooling2D"
   ]
  },
  {
   "cell_type": "code",
   "execution_count": 24,
   "metadata": {},
   "outputs": [],
   "source": [
    "import matplotlib.pyplot as plt\n"
   ]
  },
  {
   "cell_type": "code",
   "execution_count": 25,
   "metadata": {},
   "outputs": [],
   "source": [
    "filename = 'NSEI'\n",
    "stock = pd.read_csv(filename + '.csv')"
   ]
  },
  {
   "cell_type": "code",
   "execution_count": 26,
   "metadata": {},
   "outputs": [],
   "source": [
    "scaler = preprocessing.MinMaxScaler()\n",
    "scaled_values = scaler.fit_transform(stock.iloc[:,1:4])\n",
    "stock.iloc[:,1:4] = scaled_values"
   ]
  },
  {
   "cell_type": "code",
   "execution_count": 27,
   "metadata": {},
   "outputs": [],
   "source": [
    "y_scaler = preprocessing.MinMaxScaler()\n",
    "scaled_values = y_scaler.fit_transform(np.array(stock.iloc[:,4]).reshape(-1,1))\n",
    "stock.iloc[:,4] = scaled_values"
   ]
  },
  {
   "cell_type": "code",
   "execution_count": 28,
   "metadata": {},
   "outputs": [],
   "source": [
    "scaler = preprocessing.MinMaxScaler()\n",
    "scaled_values = scaler.fit_transform(stock.iloc[:,5:])\n",
    "stock.iloc[:,5:] = scaled_values"
   ]
  },
  {
   "cell_type": "code",
   "execution_count": 39,
   "metadata": {},
   "outputs": [],
   "source": [
    "window_size = 50\n",
    "X = []\n",
    "Y = []\n",
    "\n",
    "for i in range(0 , len(stock) - window_size -1 , 1):\n",
    "    X.append(np.array(stock.iloc[i:i+window_size,4]).reshape(window_size,1))\n",
    "    Y.append(np.array(stock.iloc[i+window_size,4]).reshape(1,1))"
   ]
  },
  {
   "cell_type": "code",
   "execution_count": 40,
   "metadata": {},
   "outputs": [],
   "source": [
    "train_X,temp_X,train_label,temp_label = train_test_split(X, Y, test_size=0.1,shuffle=False)\n"
   ]
  },
  {
   "cell_type": "code",
   "execution_count": 42,
   "metadata": {},
   "outputs": [],
   "source": [
    "test_X, val_X, test_label, val_lablr = train_test_split(temp_X, temp_label, test_size=0.5, random_state=42)\n"
   ]
  },
  {
   "cell_type": "code",
   "execution_count": 43,
   "metadata": {},
   "outputs": [],
   "source": [
    "train_X = np.array(train_X)\n",
    "test_X = np.array(test_X)\n",
    "train_label = np.array(train_label)\n",
    "test_label = np.array(test_label)"
   ]
  },
  {
   "cell_type": "code",
   "execution_count": 35,
   "metadata": {},
   "outputs": [
    {
     "data": {
      "text/plain": [
       "399"
      ]
     },
     "execution_count": 35,
     "metadata": {},
     "output_type": "execute_result"
    }
   ],
   "source": []
  },
  {
   "cell_type": "code",
   "execution_count": 44,
   "metadata": {},
   "outputs": [],
   "source": [
    "model = Sequential()\n",
    "#add model layers\n",
    "model.add((LSTM(128,return_sequences=True)))\n",
    "model.add((LSTM(64,return_sequences=False)))\n",
    "model.add(Dense(16, activation='relu'))\n",
    "model.add(Dense(1, activation='linear'))"
   ]
  },
  {
   "cell_type": "code",
   "execution_count": 45,
   "metadata": {},
   "outputs": [],
   "source": [
    "model.compile(optimizer='RMSprop', loss='mse')"
   ]
  },
  {
   "cell_type": "code",
   "execution_count": 46,
   "metadata": {},
   "outputs": [
    {
     "name": "stdout",
     "output_type": "stream",
     "text": [
      "Epoch 1/50\n"
     ]
    },
    {
     "name": "stdout",
     "output_type": "stream",
     "text": [
      "56/56 [==============================] - 8s 94ms/step - loss: nan - val_loss: nan\n",
      "Epoch 2/50\n",
      "56/56 [==============================] - 5s 82ms/step - loss: nan - val_loss: nan\n",
      "Epoch 3/50\n",
      "56/56 [==============================] - 5s 87ms/step - loss: nan - val_loss: nan\n",
      "Epoch 4/50\n",
      "56/56 [==============================] - 5s 90ms/step - loss: nan - val_loss: nan\n",
      "Epoch 5/50\n",
      "56/56 [==============================] - 5s 85ms/step - loss: nan - val_loss: nan\n",
      "Epoch 6/50\n",
      "56/56 [==============================] - 5s 82ms/step - loss: nan - val_loss: nan\n",
      "Epoch 7/50\n",
      "56/56 [==============================] - 4s 80ms/step - loss: nan - val_loss: nan\n",
      "Epoch 8/50\n",
      "56/56 [==============================] - 5s 83ms/step - loss: nan - val_loss: nan\n",
      "Epoch 9/50\n",
      "56/56 [==============================] - 5s 82ms/step - loss: nan - val_loss: nan\n",
      "Epoch 10/50\n",
      "56/56 [==============================] - 5s 83ms/step - loss: nan - val_loss: nan\n",
      "Epoch 11/50\n",
      "56/56 [==============================] - 5s 81ms/step - loss: nan - val_loss: nan\n",
      "Epoch 12/50\n",
      "56/56 [==============================] - 5s 84ms/step - loss: nan - val_loss: nan\n",
      "Epoch 13/50\n",
      "56/56 [==============================] - 5s 81ms/step - loss: nan - val_loss: nan\n",
      "Epoch 14/50\n",
      "56/56 [==============================] - 5s 84ms/step - loss: nan - val_loss: nan\n",
      "Epoch 15/50\n",
      "56/56 [==============================] - 5s 81ms/step - loss: nan - val_loss: nan\n",
      "Epoch 16/50\n",
      "56/56 [==============================] - 5s 87ms/step - loss: nan - val_loss: nan\n",
      "Epoch 17/50\n",
      "56/56 [==============================] - 5s 80ms/step - loss: nan - val_loss: nan\n",
      "Epoch 18/50\n",
      "56/56 [==============================] - 5s 89ms/step - loss: nan - val_loss: nan\n",
      "Epoch 19/50\n",
      "56/56 [==============================] - 5s 84ms/step - loss: nan - val_loss: nan\n",
      "Epoch 20/50\n",
      "56/56 [==============================] - 5s 81ms/step - loss: nan - val_loss: nan\n",
      "Epoch 21/50\n",
      "56/56 [==============================] - 5s 83ms/step - loss: nan - val_loss: nan\n",
      "Epoch 22/50\n",
      "56/56 [==============================] - 5s 82ms/step - loss: nan - val_loss: nan\n",
      "Epoch 23/50\n",
      "56/56 [==============================] - 5s 84ms/step - loss: nan - val_loss: nan\n",
      "Epoch 24/50\n",
      "56/56 [==============================] - 5s 84ms/step - loss: nan - val_loss: nan\n",
      "Epoch 25/50\n",
      "56/56 [==============================] - 5s 85ms/step - loss: nan - val_loss: nan\n",
      "Epoch 26/50\n",
      "56/56 [==============================] - 5s 83ms/step - loss: nan - val_loss: nan\n",
      "Epoch 27/50\n",
      "56/56 [==============================] - 5s 81ms/step - loss: nan - val_loss: nan\n",
      "Epoch 28/50\n",
      "56/56 [==============================] - 5s 85ms/step - loss: nan - val_loss: nan\n",
      "Epoch 29/50\n",
      "56/56 [==============================] - 5s 81ms/step - loss: nan - val_loss: nan\n",
      "Epoch 30/50\n",
      "56/56 [==============================] - 5s 85ms/step - loss: nan - val_loss: nan\n",
      "Epoch 31/50\n",
      "56/56 [==============================] - 5s 83ms/step - loss: nan - val_loss: nan\n",
      "Epoch 32/50\n",
      "56/56 [==============================] - 5s 84ms/step - loss: nan - val_loss: nan\n",
      "Epoch 33/50\n",
      "56/56 [==============================] - 5s 83ms/step - loss: nan - val_loss: nan\n",
      "Epoch 34/50\n",
      "56/56 [==============================] - 5s 84ms/step - loss: nan - val_loss: nan\n",
      "Epoch 35/50\n",
      "56/56 [==============================] - 5s 82ms/step - loss: nan - val_loss: nan\n",
      "Epoch 36/50\n",
      "56/56 [==============================] - 5s 85ms/step - loss: nan - val_loss: nan\n",
      "Epoch 37/50\n",
      "56/56 [==============================] - 4s 80ms/step - loss: nan - val_loss: nan\n",
      "Epoch 38/50\n",
      "56/56 [==============================] - 5s 82ms/step - loss: nan - val_loss: nan\n",
      "Epoch 39/50\n",
      "56/56 [==============================] - 5s 85ms/step - loss: nan - val_loss: nan\n",
      "Epoch 40/50\n",
      "56/56 [==============================] - 5s 83ms/step - loss: nan - val_loss: nan\n",
      "Epoch 41/50\n",
      "56/56 [==============================] - 5s 86ms/step - loss: nan - val_loss: nan\n",
      "Epoch 42/50\n",
      "56/56 [==============================] - 5s 83ms/step - loss: nan - val_loss: nan\n",
      "Epoch 43/50\n",
      "56/56 [==============================] - 5s 87ms/step - loss: nan - val_loss: nan\n",
      "Epoch 44/50\n",
      "56/56 [==============================] - 5s 81ms/step - loss: nan - val_loss: nan\n",
      "Epoch 45/50\n",
      "56/56 [==============================] - 5s 87ms/step - loss: nan - val_loss: nan\n",
      "Epoch 46/50\n",
      "56/56 [==============================] - 4s 80ms/step - loss: nan - val_loss: nan\n",
      "Epoch 47/50\n",
      "56/56 [==============================] - 5s 85ms/step - loss: nan - val_loss: nan\n",
      "Epoch 48/50\n",
      "56/56 [==============================] - 5s 82ms/step - loss: nan - val_loss: nan\n",
      "Epoch 49/50\n",
      "56/56 [==============================] - 5s 81ms/step - loss: nan - val_loss: nan\n",
      "Epoch 50/50\n",
      "56/56 [==============================] - 5s 85ms/step - loss: nan - val_loss: nan\n"
     ]
    }
   ],
   "source": [
    "model.fit(train_X, train_label, validation_data=(test_X,test_label), epochs=50,batch_size=64,shuffle=False)"
   ]
  },
  {
   "cell_type": "code",
   "execution_count": 20,
   "metadata": {},
   "outputs": [
    {
     "data": {
      "text/plain": [
       "399"
      ]
     },
     "execution_count": 20,
     "metadata": {},
     "output_type": "execute_result"
    }
   ],
   "source": []
  },
  {
   "cell_type": "code",
   "execution_count": 14,
   "metadata": {},
   "outputs": [
    {
     "name": "stdout",
     "output_type": "stream",
     "text": [
      "13/13 [==============================] - 0s 14ms/step - loss: nan\n",
      "nan\n"
     ]
    }
   ],
   "source": [
    "print(model.evaluate(test_X,test_label))\n"
   ]
  },
  {
   "cell_type": "code",
   "execution_count": 15,
   "metadata": {},
   "outputs": [
    {
     "name": "stdout",
     "output_type": "stream",
     "text": [
      "13/13 [==============================] - 1s 38ms/step\n"
     ]
    }
   ],
   "source": [
    "predicted  = model.predict(test_X)"
   ]
  },
  {
   "cell_type": "code",
   "execution_count": 16,
   "metadata": {},
   "outputs": [],
   "source": [
    "test_label[:,0] = y_scaler.inverse_transform(test_label[:,0])\n",
    "predicted = np.array(predicted[:,0]).reshape(-1,1)\n",
    "predicted = y_scaler.inverse_transform(predicted)"
   ]
  },
  {
   "cell_type": "code",
   "execution_count": 17,
   "metadata": {},
   "outputs": [
    {
     "data": {
      "image/png": "[encoded data removed]",
      "text/plain": [
       "<Figure size 640x480 with 1 Axes>"
      ]
     },
     "metadata": {},
     "output_type": "display_data"
    }
   ],
   "source": [
    "plt.plot(test_label[:,0], color = 'black', label = ' Stock Price')\n",
    "plt.plot(predicted, color = 'green', label = 'Predicted  Stock Price')\n",
    "plt.title(' Stock Price Prediction')\n",
    "plt.xlabel('Time')\n",
    "plt.ylabel(' Stock Price')\n",
    "plt.legend()\n",
    "plt.show()"
   ]
  }
 ],
 "metadata": {
  "kernelspec": {
   "display_name": ".venv",
   "language": "python",
   "name": "python3"
  },
  "language_info": {
   "codemirror_mode": {
    "name": "ipython",
    "version": 3
   },
   "file_extension": ".py",
   "mimetype": "text/x-python",
   "name": "python",
   "nbconvert_exporter": "python",
   "pygments_lexer": "ipython3",
   "version": "3.10.13"
  }
 },
 "nbformat": 4,
 "nbformat_minor": 2
}
